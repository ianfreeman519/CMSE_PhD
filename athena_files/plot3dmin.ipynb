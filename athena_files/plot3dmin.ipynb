{
 "cells": [
  {
   "cell_type": "code",
   "execution_count": 1,
   "metadata": {},
   "outputs": [],
   "source": [
    "import numpy as np\n",
    "import pickle\n",
    "import matplotlib.pyplot as plt\n",
    "import matplotlib.colors as colors\n",
    "\n",
    "def grabFileSeries(scratchdirectory, fn, f0=0, step=1, width=5, \n",
    "                   basename=\"MPsimple\", scratchPath=\"/mnt/gs21/scratch/freem386/\"):\n",
    "    \"\"\"Returns a list of files with the form \n",
    "    <scratchPath>/<scratchdirectory>/<basename>.out2/#####.athdf,\n",
    "    starting at f0, ending at fn with stepsize step.\n",
    "\n",
    "    Args:\n",
    "        scratchdirectory (str): Directory within scratchPath of desired files\n",
    "        fn (int): final (stopping point) output number\n",
    "        f0 (int, optional): initial output number. Defaults to 0.\n",
    "        step (int, optional): output number step. Defaults to 1.\n",
    "        width (int, optional): width of 0 in filenames. Defaults to 5.\n",
    "        basename (str, optional): <basename>.out2.#####.athdf . Defaults to \"MPsimple\".\n",
    "        scratchPath (str, optional): value stored in $SCRATCH. Defaults to \"/mnt/gs21/scratch/freem386/\".\n",
    "\n",
    "    Returns:\n",
    "        array[str]: List of filenames including paths\n",
    "    \"\"\"\n",
    "    files = []\n",
    "    for f in np.arange(f0, fn+1, step, dtype=int):\n",
    "            files.append(scratchPath + scratchdirectory + basename + \".out2.\" + str(f).zfill(width) + \".athdf\")\n",
    "    return files\n"
   ]
  },
  {
   "cell_type": "code",
   "execution_count": 2,
   "metadata": {},
   "outputs": [],
   "source": [
    "filehandler = open(\"lhlld2_stability.pkl\", \"rb\")\n",
    "pspace = pickle.load(filehandler)\n",
    "filehandler.close()"
   ]
  },
  {
   "cell_type": "code",
   "execution_count": 4,
   "metadata": {},
   "outputs": [
    {
     "name": "stdout",
     "output_type": "stream",
     "text": [
      "0 0 0 11\n",
      "0 0 1 11\n",
      "0 0 2 11\n",
      "0 1 0 11\n",
      "0 1 1 11\n",
      "0 1 2 11\n",
      "0 2 0 11\n",
      "0 2 1 11\n",
      "0 2 2 11\n",
      "1 0 0 11\n",
      "1 0 1 11\n",
      "1 0 2 11\n",
      "1 1 0 11\n",
      "1 1 1 11\n",
      "1 1 2 11\n",
      "1 2 0 11\n",
      "1 2 1 11\n",
      "1 2 2 11\n",
      "2 0 0 11\n",
      "2 0 1 11\n",
      "2 0 2 11\n",
      "2 1 0 11\n",
      "2 1 1 11\n",
      "2 1 2 11\n",
      "2 2 0 11\n",
      "2 2 1 11\n",
      "2 2 2 11\n"
     ]
    }
   ],
   "source": [
    "ind = {\"ialpha\": 0, \"ibeta\": 1, \"ip\": 2, \"id\": 3, \"im\": 4}  # Dictionary for referencing given values within the pickled data\n",
    "ti = 0\n",
    "pi, di, mi = 0, 0, 0    # For easy changing\n",
    "\n",
    "# Define the parameters you want to vary\n",
    "alpha_values = np.array([0, 1, 3, 5, 7])\n",
    "beta_values = np.array([0, 1, 2, 3, 5])\n",
    "pcoeff_values = np.array([1e-8, 1e-7, 1e-6])\n",
    "d_values = np.array([1.218085e-5, 1.218085e-4, 1.218085e-3])\n",
    "b_values = np.array([5e4, 5e5, 5e6])\n",
    "\n",
    "for ti in np.arange(start=11, step=1, stop=12):\n",
    "    for pi in range(3):\n",
    "        for di in range(3):\n",
    "            for mi in range(3):\n",
    "                print(pi, di, mi, ti)\n",
    "                fig, ax = plt.subplots(2, 2)\n",
    "\n",
    "                X, Y = np.meshgrid(alpha_values, beta_values)\n",
    "                Z = pspace[:, :, pi, di, mi, ti]\n",
    "                pcm = ax[0,0].pcolormesh(X, Y, Z, norm=colors.LogNorm(vmin=np.nanmin(Z), vmax=np.nanmax(Z)))\n",
    "\n",
    "                ax[0,0].set_xlabel(r\"$\\alpha$\")\n",
    "                ax[0,0].set_ylabel(r\"$\\beta$\")\n",
    "                fig.colorbar(pcm, ax=ax[0,0], extend=\"max\")\n",
    "\n",
    "                r = np.linspace(0, 2, 100)\n",
    "                rho = d_values[di]*r**alpha_values[:, np.newaxis]\n",
    "                p = 4*np.pi*pcoeff_values[pi] * r**(2*beta_values[:, np.newaxis]) * 2*b_values[mi]**2\n",
    "                bp1 = beta_values + np.ones_like(beta_values)\n",
    "                bm1 = beta_values - np.ones_like(beta_values)\n",
    "                b_numerator = b_values[mi]*r**(bp1[:,np.newaxis])\n",
    "                with np.errstate(divide='ignore', invalid='ignore'):\n",
    "                    b = b_numerator/bm1[:,np.newaxis]\n",
    "\n",
    "                for i in range(b.shape[0]):\n",
    "                    ax[1, 0].loglog(r, b[i, :], '--', label=f'B-be={beta_values[i]}')\n",
    "                ax[1, 0].legend()\n",
    "\n",
    "                for i in range(rho.shape[0]):\n",
    "                    ax[1, 1].loglog(r, rho[i,:], '--', label=f'rho-al={alpha_values[i]}')\n",
    "                ax[1, 1].legend()\n",
    "\n",
    "                for i in range(p.shape[0]):\n",
    "                    ax[0, 1].loglog(r, p[i, :], '--', label=f'p-be={beta_values[i]}')\n",
    "                ax[0, 1].legend()\n",
    "\n",
    "                fig.set_label(f\"t{ti}_p{pi}_d{di}_b{mi}\")\n",
    "                fig.tight_layout()\n",
    "                fig.suptitle(f\"t{ti}_p{pi}_d{di}_b{mi}\")\n",
    "\n",
    "                plt.savefig(f\"plot3dmin/t{ti:03}_p{pi}_d{di}_b{mi}.png\")\n",
    "\n",
    "                plt.close()"
   ]
  },
  {
   "cell_type": "code",
   "execution_count": null,
   "metadata": {},
   "outputs": [],
   "source": [
    "ffmpeg -framerate 2 -i t%03d_p0_d0_b0.png p0_d0_b0.mp4"
   ]
  },
  {
   "cell_type": "code",
   "execution_count": null,
   "metadata": {},
   "outputs": [],
   "source": []
  }
 ],
 "metadata": {
  "kernelspec": {
   "display_name": "research",
   "language": "python",
   "name": "python3"
  },
  "language_info": {
   "codemirror_mode": {
    "name": "ipython",
    "version": 3
   },
   "file_extension": ".py",
   "mimetype": "text/x-python",
   "name": "python",
   "nbconvert_exporter": "python",
   "pygments_lexer": "ipython3",
   "version": "3.12.4"
  }
 },
 "nbformat": 4,
 "nbformat_minor": 2
}

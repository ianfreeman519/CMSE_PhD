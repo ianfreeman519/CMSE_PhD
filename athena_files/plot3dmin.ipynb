{
 "cells": [
  {
   "cell_type": "code",
   "execution_count": 1,
   "metadata": {},
   "outputs": [],
   "source": [
    "import yt\n",
    "yt.set_log_level(40) \n",
    "import numpy as np\n",
    "import pickle\n",
    "import matplotlib.pyplot as plt\n",
    "\n",
    "def grabFileSeries(scratchdirectory, fn, f0=0, step=1, width=5, \n",
    "                   basename=\"MPsimple\", scratchPath=\"/mnt/gs21/scratch/freem386/\"):\n",
    "    \"\"\"Returns a list of files with the form \n",
    "    <scratchPath>/<scratchdirectory>/<basename>.out2/#####.athdf,\n",
    "    starting at f0, ending at fn with stepsize step.\n",
    "\n",
    "    Args:\n",
    "        scratchdirectory (str): Directory within scratchPath of desired files\n",
    "        fn (int): final (stopping point) output number\n",
    "        f0 (int, optional): initial output number. Defaults to 0.\n",
    "        step (int, optional): output number step. Defaults to 1.\n",
    "        width (int, optional): width of 0 in filenames. Defaults to 5.\n",
    "        basename (str, optional): <basename>.out2.#####.athdf . Defaults to \"MPsimple\".\n",
    "        scratchPath (str, optional): value stored in $SCRATCH. Defaults to \"/mnt/gs21/scratch/freem386/\".\n",
    "\n",
    "    Returns:\n",
    "        array[str]: List of filenames including paths\n",
    "    \"\"\"\n",
    "    files = []\n",
    "    for f in np.arange(f0, fn+1, step, dtype=int):\n",
    "            files.append(scratchPath + scratchdirectory + basename + \".out2.\" + str(f).zfill(width) + \".athdf\")\n",
    "    return files\n"
   ]
  },
  {
   "cell_type": "code",
   "execution_count": 2,
   "metadata": {},
   "outputs": [],
   "source": [
    "filehandler = open(\"lhlld2_stability.pkl\", \"rb\")\n",
    "pspace = pickle.load(filehandler)\n",
    "filehandler.close()"
   ]
  },
  {
   "cell_type": "code",
   "execution_count": 14,
   "metadata": {},
   "outputs": [
    {
     "data": {
      "image/png": "[encoded data removed]",
      "text/plain": [
       "<Figure size 640x480 with 2 Axes>"
      ]
     },
     "metadata": {},
     "output_type": "display_data"
    }
   ],
   "source": [
    "ind = {\"ialpha\": 0, \"ibeta\": 1, \"ip\": 2, \"id\": 3, \"im\": 4}\n",
    "ti = 20\n",
    "\n",
    "# Define the parameters you want to vary\n",
    "alpha_values = [0, 1, 3, 5, 7]\n",
    "beta_values = [0, 1, 2, 3, 5]\n",
    "pcoeff_values = [1e-8, 1e-7, 1e-6]\n",
    "d_values = [1.218085e-5, 1.218085e-4, 1.218085e-3]\n",
    "b_values = [5e4, 5e5, 5e6] \n",
    "\n",
    "X, Y = np.meshgrid(alpha_values, beta_values)\n",
    "plt.pcolormesh(X, Y, np.log(pspace[:, :, 0, 0, 0, 250]))\n",
    "\n",
    "plt.xlabel(\"alpha\")\n",
    "plt.ylabel('beta')\n",
    "plt.colorbar()\n",
    "\n",
    "plt.show()"
   ]
  },
  {
   "cell_type": "code",
   "execution_count": null,
   "metadata": {},
   "outputs": [],
   "source": []
  },
  {
   "cell_type": "code",
   "execution_count": null,
   "metadata": {},
   "outputs": [],
   "source": []
  }
 ],
 "metadata": {
  "kernelspec": {
   "display_name": "research",
   "language": "python",
   "name": "python3"
  },
  "language_info": {
   "codemirror_mode": {
    "name": "ipython",
    "version": 3
   },
   "file_extension": ".py",
   "mimetype": "text/x-python",
   "name": "python",
   "nbconvert_exporter": "python",
   "pygments_lexer": "ipython3",
   "version": "3.12.4"
  }
 },
 "nbformat": 4,
 "nbformat_minor": 2
}

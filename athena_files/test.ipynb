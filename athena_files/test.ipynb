{
 "cells": [
  {
   "cell_type": "code",
   "execution_count": 1,
   "metadata": {},
   "outputs": [],
   "source": [
    "import yt\n",
    "yt.set_log_level(50)  \n",
    "import numpy as np\n",
    "from scipy.optimize import curve_fit\n",
    "import matplotlib.pyplot as plt\n",
    "import matplotlib.colors as colors\n",
    "from tqdm import trange\n",
    "from utils import grabFileSeries, get_simulation_time, change_in_box\n",
    "from utils import draw_xy_box, parse_input_file, div2D, dFdx, dFdy, rolling_average\n",
    "from utils import dFdx_1d_non_U_grid, dFdy_1d_non_U_grid"
   ]
  },
  {
   "cell_type": "code",
   "execution_count": 2,
   "metadata": {},
   "outputs": [
    {
     "data": {
      "text/plain": [
       "[('gas', 'magnetic_field_y_gradient_x'),\n",
       " ('gas', 'magnetic_field_y_gradient_y'),\n",
       " ('gas', 'magnetic_field_y_gradient_z'),\n",
       " ('gas', 'magnetic_field_y_gradient_magnitude')]"
      ]
     },
     "execution_count": 2,
     "metadata": {},
     "output_type": "execute_result"
    }
   ],
   "source": [
    "# Standard dataset initialization\n",
    "index = 100\n",
    "scratch_dirname = \"vary_eta_force_free_IC/1e-4/\"\n",
    "# scratch_dirname = \"forcetest/\"\n",
    "inputname = \"athinput.recon_gauss_harris\"\n",
    "input_params = parse_input_file(f'/mnt/gs21/scratch/freem386/{scratch_dirname}{inputname}')\n",
    "fileseries = grabFileSeries(scratch_dirname, index, basename=\"recon_fast\")\n",
    "ds = yt.load(fileseries[index])\n",
    "ds.add_gradient_fields(('gas', 'magnetic_field_x'))\n",
    "ds.add_gradient_fields(('gas', 'magnetic_field_y'))\n"
   ]
  },
  {
   "cell_type": "code",
   "execution_count": 4,
   "metadata": {},
   "outputs": [
    {
     "data": {
      "text/plain": [
       "<matplotlib.collections.QuadMesh at 0x152c3622c0e0>"
      ]
     },
     "execution_count": 4,
     "metadata": {},
     "output_type": "execute_result"
    },
    {
     "data": {
      "image/png": "[encoded data removed]",
      "text/plain": [
       "<Figure size 640x480 with 1 Axes>"
      ]
     },
     "metadata": {},
     "output_type": "display_data"
    }
   ],
   "source": [
    "# Casting yt data into numpy data to analyze\n",
    "# Defining analysis box limits (in code units of x and y)\n",
    "xminbox, xmaxbox = -1.2, 1.2\n",
    "yminbox, ymaxbox = -0.05, 0.050\n",
    "\n",
    "# Creating the covering grid using YT to cast yt data\n",
    "max_level = input_params[\"refinement1_level\"]   # Max refinement level - highest resolution needed for numpy array\n",
    "xmin, xmax = input_params[\"mesh_x1min\"], input_params[\"mesh_x1max\"] # This is the dimension of the WHOLE simulation domain\n",
    "ymin, ymax = input_params[\"mesh_x2min\"], input_params[\"mesh_x2max\"]\n",
    "\n",
    "level = max_level\n",
    "Nx = input_params[\"mesh_nx1\"] * 2**(level)  # Nx, Ny is the number of cells in each direction of the WHOLE simulation domain\n",
    "Ny = input_params[\"mesh_nx2\"] * 2**(level)\n",
    "\n",
    "dx, dy = (xmax - xmin)/Nx, (ymax - ymin)/Ny     # grid resolution at highest refinement level\n",
    "iN, jN = int(np.floor((xmaxbox - xminbox)//dx)), int(np.floor((ymaxbox - yminbox)//dy))   # Length of the covering grid data in x/y\n",
    "\n",
    "# Finally the real covering grid:\n",
    "cg = ds.covering_grid(level=level, left_edge=[xminbox, yminbox, 0], dims=[iN, jN, 1], num_ghost_zones=1)\n",
    "\n",
    "rho = cg[\"gas\", \"density\"][:,:,0].v\n",
    "Bx = cg['gas', 'magnetic_field_x'][:,:,0].v\n",
    "By = cg['gas', 'magnetic_field_y'][:,:,0].v\n",
    "dBydx = cg[\"gas\", \"magnetic_field_y_gradient_x\"][:,:,0].v\n",
    "dBxdy = cg[\"gas\", \"magnetic_field_x_gradient_y\"][:,:,0].v\n",
    "\n",
    "curlB = dBydx - dBxdy\n",
    "\n",
    "X, Y = np.reshape(cg[\"athena_pp\",\"x\"].v, (iN, jN)), np.reshape(cg[\"athena_pp\",\"y\"].v, (iN, jN))\n",
    "\n",
    "plt.pcolormesh(X, Y, curlB)"
   ]
  }
 ],
 "metadata": {
  "kernelspec": {
   "display_name": "research",
   "language": "python",
   "name": "python3"
  },
  "language_info": {
   "codemirror_mode": {
    "name": "ipython",
    "version": 3
   },
   "file_extension": ".py",
   "mimetype": "text/x-python",
   "name": "python",
   "nbconvert_exporter": "python",
   "pygments_lexer": "ipython3",
   "version": "3.12.4"
  }
 },
 "nbformat": 4,
 "nbformat_minor": 2
}
